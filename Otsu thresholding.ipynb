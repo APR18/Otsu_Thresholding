{
 "cells": [
  {
   "cell_type": "code",
   "execution_count": 1,
   "metadata": {},
   "outputs": [],
   "source": [
    "import numpy as np\n",
    "import cv2\n",
    "import matplotlib.pyplot as plt"
   ]
  },
  {
   "cell_type": "code",
   "execution_count": null,
   "metadata": {},
   "outputs": [],
   "source": []
  },
  {
   "cell_type": "code",
   "execution_count": 2,
   "metadata": {},
   "outputs": [],
   "source": [
    "def get_thresholds():\n",
    "    thresholds_str = input(\"Enter the thresholds: \")\n",
    "    threshold_list = thresholds_str.split()\n",
    "    thresholds=[]\n",
    "    for threshold in threshold_list:\n",
    "        thresholds.append(int(threshold))\n",
    "    thresholds.insert(0,0)\n",
    "    thresholds.append(256)    \n",
    "    num_threshold = len(thresholds)\n",
    "    return thresholds,num_threshold\n"
   ]
  },
  {
   "cell_type": "code",
   "execution_count": 3,
   "metadata": {},
   "outputs": [],
   "source": [
    "def histCount():\n",
    "    path = input(\"Enter the path of the image(EX: C:\\\\....): \")\n",
    "    img_array = cv2.imread(path,cv2.IMREAD_GRAYSCALE)\n",
    "    histogram,bins = np.histogram(img_array,bins=256,range=(0,255))\n",
    "    return histogram,bins"
   ]
  },
  {
   "cell_type": "code",
   "execution_count": 4,
   "metadata": {},
   "outputs": [],
   "source": [
    "def plot_histogram(histogram,bin_edges):\n",
    "    plt.figure()\n",
    "    plt.title(\"Grayscale Histogram\")\n",
    "    plt.xlabel(\"grayscale value\")\n",
    "    plt.ylabel(\"pixels\")\n",
    "    plt.xlim([0,255])\n",
    "    plt.plot(bin_edges[0:-1],histogram)\n",
    "    plt.show()"
   ]
  },
  {
   "cell_type": "code",
   "execution_count": 5,
   "metadata": {},
   "outputs": [],
   "source": [
    "def otsuThresholding(thresholds,num_threshold,histogram):\n",
    "    cummulative_sum=[]\n",
    "    cummulative_mean=[]\n",
    "    global_mean = 0\n",
    "    #print(thresholds)\n",
    "\n",
    "    hist = []\n",
    "    sum_ = np.sum(histogram)\n",
    "    for value in histogram:\n",
    "        hist.append(value/sum_)\n",
    "\n",
    "\n",
    "    for i in range(num_threshold-1):\n",
    "        cummulative_sum.append(np.sum(hist[thresholds[i]:thresholds[i+1]]))\n",
    "    #print(cummulative_sum)\n",
    "        output = 0\n",
    "        k=0\n",
    "        for k in range(thresholds[i],thresholds[i+1]):\n",
    "            output+= (k+1)*hist[k]\n",
    "        cummulative_mean.append(output/cummulative_sum[-1])\n",
    "    #print(cummulative_mean)\n",
    "\n",
    "\n",
    "\n",
    "        global_mean+=output\n",
    "    #print(global_mean)\n",
    "\n",
    "    sigma = 0\n",
    "    classes = 0\n",
    "    for i in range((len(cummulative_sum))):\n",
    "        sigma+= (cummulative_sum[i]*((cummulative_mean[i]-global_mean)**2))\n",
    "    return (sigma)\n",
    "    "
   ]
  },
  {
   "cell_type": "code",
   "execution_count": 6,
   "metadata": {},
   "outputs": [],
   "source": [
    "def main():\n",
    "    histogram,bins = histCount()\n",
    "    plot_histogram(histogram,bins)\n",
    "    thresholds,num_threshold= get_thresholds()\n",
    "    sigma = otsuThresholding(thresholds,num_threshold,histogram)\n",
    "    print(\"\\n\",sigma)"
   ]
  },
  {
   "cell_type": "code",
   "execution_count": 7,
   "metadata": {},
   "outputs": [
    {
     "name": "stdout",
     "output_type": "stream",
     "text": [
      "Enter the path of the image(EX: C:\\....): C:\\\\Users\\\\Dark Viper\\\\Desktop\\\\lena.tiff\n"
     ]
    },
    {
     "data": {
      "image/png": "[encoded data removed]",
      "text/plain": [
       "<Figure size 432x288 with 1 Axes>"
      ]
     },
     "metadata": {
      "needs_background": "light"
     },
     "output_type": "display_data"
    },
    {
     "name": "stdout",
     "output_type": "stream",
     "text": [
      "Enter the thresholds: 73 109 136 160 188\n",
      "\n",
      " 2217.7581079036318\n"
     ]
    }
   ],
   "source": [
    "main()"
   ]
  },
  {
   "cell_type": "code",
   "execution_count": null,
   "metadata": {},
   "outputs": [],
   "source": []
  },
  {
   "cell_type": "code",
   "execution_count": null,
   "metadata": {},
   "outputs": [],
   "source": []
  },
  {
   "cell_type": "code",
   "execution_count": null,
   "metadata": {},
   "outputs": [],
   "source": []
  },
  {
   "cell_type": "code",
   "execution_count": null,
   "metadata": {},
   "outputs": [],
   "source": []
  },
  {
   "cell_type": "code",
   "execution_count": null,
   "metadata": {},
   "outputs": [],
   "source": []
  },
  {
   "cell_type": "code",
   "execution_count": null,
   "metadata": {},
   "outputs": [],
   "source": []
  },
  {
   "cell_type": "code",
   "execution_count": null,
   "metadata": {},
   "outputs": [],
   "source": []
  }
 ],
 "metadata": {
  "kernelspec": {
   "display_name": "Python 3",
   "language": "python",
   "name": "python3"
  },
  "language_info": {
   "codemirror_mode": {
    "name": "ipython",
    "version": 3
   },
   "file_extension": ".py",
   "mimetype": "text/x-python",
   "name": "python",
   "nbconvert_exporter": "python",
   "pygments_lexer": "ipython3",
   "version": "3.7.7"
  }
 },
 "nbformat": 4,
 "nbformat_minor": 4
}
